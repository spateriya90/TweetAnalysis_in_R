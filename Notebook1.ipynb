{
 "cells": [
  {
   "cell_type": "markdown",
   "metadata": {},
   "source": [
    "# Notebook 1\n"
   ]
  },
  {
   "cell_type": "code",
   "execution_count": 3,
   "metadata": {
    "collapsed": true
   },
   "outputs": [],
   "source": [
    "library(twitteR)     #Load twitteR library"
   ]
  },
  {
   "cell_type": "code",
   "execution_count": 4,
   "metadata": {
    "collapsed": false
   },
   "outputs": [
    {
     "name": "stdout",
     "output_type": "stream",
     "text": [
      "[1] \"Using direct authentication\"\n"
     ]
    }
   ],
   "source": [
    "setup_twitter_oauth(\"API key\", \"API secret\", \"Access token\", \"Access secret\")    #Authenticate using your application keys"
   ]
  },
  {
   "cell_type": "markdown",
   "metadata": {},
   "source": [
    "# This notebook demonstrates the following examples:\n",
    "1. <a href='#search'>Searching Twitter </a>\n",
    "2. <a href='#userinfo'>Getting User Information</a>\n",
    "3. <a href='#dataframe'>Creating Data Frames</a>\n",
    "4. <a href='#database'>Storing and Retrieving from a Database</a>\n",
    "5. <a href='#timeline'>Retrieving Twitter Timeline of a user</a>\n",
    "6. <a href='#trends'>Trending Topics</a>\n",
    "7. <a href='#plot'>Reading from a CSV and plotting points</a>\n",
    "8. <a href='#map'>Using Google API to plot points on a map</a>"
   ]
  },
  {
   "cell_type": "markdown",
   "metadata": {},
   "source": [
    "<br><br><br>"
   ]
  },
  {
   "cell_type": "markdown",
   "metadata": {},
   "source": [
    "### Searching Twitter <a id='search'></a>"
   ]
  },
  {
   "cell_type": "code",
   "execution_count": 5,
   "metadata": {
    "collapsed": true
   },
   "outputs": [
    {
     "data": {
      "text/plain": [
       "[[1]]\n",
       "[1] \"NickBravoESQ: There is no Chapter 11 for the US Government.  Stop wasting our money @realDonaldTrump! There is only 1 #WhiteHouse",
       " https://t.co/3LcPjYCXhb\"\n",
       "\n",
       "[[2]]\n",
       "[1] \"AndrewJNell: #WhiteHouse dismisses #NSC aide after harsh criticism of #Trump... https://t.co/En7FWuEhBY\"\n",
       "\n",
       "[[3]]\n",
       "[1] \"tmmckinney777: RT @crazylary51: #Melbourne #WhiteHouse scum #TRUMP Obama golfs too much.\\nTrump now: I'm going golfing. https://t.co/RVCHq8OPI7\"\n",
       "\n",
       "[[4]]\n",
       "[1] \"norweaver: Why do #MSM think #DrainTheSwamp #WhiteHouse should function like all others? Same reason they have no clue why ",
       "  https://t.co/BBN0TUe5pa\"\n",
       "\n",
       "[[5]]\n",
       "[1] \"granny_claudia: RT @crazylary51: #Melbourne #WhiteHouse https://t.co/64DxcbZa34 #TheResistence\"\n",
       "\n",
       "[[6]]\n",
       "[1] \"josieO: Someone tell this jackass that he won the election. Should be in the #WhiteHouse working. #Rally #Trump\"\n"
      ]
     },
     "metadata": {},
     "output_type": "display_data"
    }
   ],
   "source": [
    "tweets <- searchTwitter('#WhiteHouse', n=50)\n",
    "head(tweets)"
   ]
  },
  {
   "cell_type": "code",
   "execution_count": 6,
   "metadata": {
    "collapsed": true
   },
   "outputs": [
    {
     "data": {
      "text/plain": [
       "[[1]]\n",
       "[1] \"DeezNut123456: RT @SoCal4Trump: Trump: \\\"When the media lies to people, I will never let them get away with it!\\\"\\n\\nThank you Mr. President! Keep calling 'em",
       "\"\n",
       "\n",
       "[[2]]\n",
       "[1] \"EdithNourse: RT @jkarsh: 1. The \\\"Southern White House' is not a thing. \\n\\n2. The 'Winter White House' is not a thing. \\n\\n3. Mar-a-Lago is a private Trump",
       "\"\n",
       "\n",
       "[[3]]\n",
       "[1] \"Lefky_Reb: RT @asamjulian: Boy, I miss Trump rallies. Lots of nostalgia going on right now. <ed><U+00A0><U+00BD><ed><U+00B8><U+008A>\"\n",
       "\n",
       "[[4]]\n",
       "[1] \"RNRTogether: RT @SRMooreSr: In the District of Corruption, Trump has very few real allies. For him to succeed our vocal input to Congress is a must. #Re",
       "\"\n",
       "\n",
       "[[5]]\n",
       "[1] \"SDonnelly_77: RT @tedlieu: Nat Sec Advisor resigns. Adm Harward rejects Trump. N Korea launched ballistic missile. What does @POTUS find important? A cam",
       "\"\n",
       "\n",
       "[[6]]\n",
       "[1] \"Morley1917: RT @realDonaldTjump: America is back!\\nGet your T-shirt to show your support for President Trump\\nhttps://t.co/qPzBJYUnUa\\n\\n#MAGA https://t.co",
       "\"\n"
      ]
     },
     "metadata": {},
     "output_type": "display_data"
    }
   ],
   "source": [
    "tweets1 <- searchTwitter('Trump', n=50)\n",
    "head(tweets1)"
   ]
  },
  {
   "cell_type": "markdown",
   "metadata": {},
   "source": [
    "### Getting User Info from Twitter <a id='userinfo'></a>"
   ]
  },
  {
   "cell_type": "code",
   "execution_count": 10,
   "metadata": {
    "collapsed": false
   },
   "outputs": [
    {
     "data": {
      "text/html": [
       "'45th President of the United States of America'"
      ],
      "text/latex": [
       "'45th President of the United States of America'"
      ],
      "text/markdown": [
       "'45th President of the United States of America'"
      ],
      "text/plain": [
       "[1] \"45th President of the United States of America\""
      ]
     },
     "metadata": {},
     "output_type": "display_data"
    }
   ],
   "source": [
    "userProf <- getUser('realDonaldTrump')\n",
    "userProf$getDescription()"
   ]
  },
  {
   "cell_type": "code",
   "execution_count": 11,
   "metadata": {
    "collapsed": true
   },
   "outputs": [
    {
     "data": {
      "text/plain": [
       "[[1]]\n",
       "[1] \"IvankaTrump: 2016 has been one of the most eventful and exciting years of my life. I wish you peace, joy, love and laughter. Hap",
       " https://t.co/A1I3tvTySZ\"\n",
       "\n",
       "[[2]]\n",
       "[1] \"DonaldJTrumpJr: FINAL PUSH! Eric and I doing dozens of radio interviews. We can win this thing! GET OUT AND VOTE! #MAGA #ElectionDay https://t.co/dYcxRCBQUd\"\n",
       "\n",
       "[[3]]\n",
       "[1] \"DanScavino: INDIANA #TrumpTrain<ed><U+00A0><U+00BD><ed><U+00BA><U+0082><ed><U+00A0><U+00BD><ed><U+00B2><U+00A8><ed><U+00A0><U+00BC><ed><U+00B7><U+00BA><ed><U+00A0><U+00BC><ed><U+00B7><U+00B8><ed><U+00A0><U+00BC><ed><U+00B7><U+00BA><ed><U+00A0><U+00BC><ed><U+00B7><U+00B8>\\ncc: @mike_pence @marc_lotter https://t.co/fxvQ43k2im\"\n",
       "\n",
       "[[4]]\n",
       "[1] \"mike_pence: Congrats to my running mate @realDonaldTrump on a big debate win! Proud to stand with you as we #MAGA.\"\n",
       "\n",
       "[[5]]\n",
       "[1] \"TeamTrump: It's hard to fight terrorism when you're making cash payments to the world's LARGEST state sponsor of TERROR. Under",
       " https://t.co/GPSkdoiiRC\"\n",
       "\n",
       "[[6]]\n",
       "[1] \"KellyannePolls: After a decent first debate, @HillaryClinton is back to form: pedantic, lawyerly, technocratic, (woefully untruthful) responses.\"\n",
       "\n",
       "[[7]]\n",
       "[1] \"TeamTrump: .@timkaine's Abortion Flip-Flops: From Valuing The Sanctity of Life --&gt; Pro-Abortion Demagogue #VPdebate",
       " https://t.co/qOraYxR550\"\n",
       "\n",
       "[[8]]\n",
       "[1] \"TeamTrump: Law enforcement officers bring communities together &amp; keep us safe. @mike_pence &amp; @realDonaldTrump RESPECT &amp; stand",
       " https://t.co/cdG7ez9mZp\"\n",
       "\n",
       "[[9]]\n",
       "[1] \"IvankaTrump: Ivanka penned an Op-Ed that ran in the @WSJ this afternoon, read it here. https://t.co/3QE4nRXzLZ @realDonaldTrump https://t.co/OFyemRve4j\"\n",
       "\n",
       "[[10]]\n",
       "[1] \"mckaycoppins: Meanwhile, Washington Post is out with a new 50-state survey that is... less good for Trump. https://t.co/UxnLVEThjU https://t.co/jAMganpdwD\"\n"
      ]
     },
     "metadata": {},
     "output_type": "display_data"
    }
   ],
   "source": [
    "userProf$getFavorites(n=10)"
   ]
  },
  {
   "cell_type": "markdown",
   "metadata": {},
   "source": [
    "### Creating Data Frames <a id='dataframe'></a>"
   ]
  },
  {
   "cell_type": "code",
   "execution_count": 12,
   "metadata": {
    "collapsed": true
   },
   "outputs": [],
   "source": [
    "df <- twListToDF(tweets)"
   ]
  },
  {
   "cell_type": "code",
   "execution_count": 13,
   "metadata": {
    "collapsed": true
   },
   "outputs": [
    {
     "data": {
      "text/html": [
       "<table>\n",
       "<thead><tr><th scope=col>text</th><th scope=col>favorited</th><th scope=col>favoriteCount</th><th scope=col>replyToSN</th><th scope=col>created</th><th scope=col>truncated</th><th scope=col>replyToSID</th><th scope=col>id</th><th scope=col>replyToUID</th><th scope=col>statusSource</th><th scope=col>screenName</th><th scope=col>retweetCount</th><th scope=col>isRetweet</th><th scope=col>retweeted</th><th scope=col>longitude</th><th scope=col>latitude</th></tr></thead>\n",
       "<tbody>\n",
       "\t<tr><td><span style=white-space:pre-wrap>There is no Chapter 11 for the US Government.  Stop wasting our money @realDonaldTrump! There is only 1 #WhiteHouse… https://t.co/3LcPjYCXhb</span></td><td>FALSE                                                                                                                                                                               </td><td>0                                                                                                                                                                                   </td><td>NA                                                                                                                                                                                  </td><td>2017-02-18 22:57:49                                                                                                                                                                 </td><td> TRUE                                                                                                                                                                               </td><td>NA                                                                                                                                                                                  </td><td>833088156354301952                                                                                                                                                                  </td><td>NA                                                                                                                                                                                  </td><td>&lt;a href=\"http://twitter.com/download/android\" rel=\"nofollow\"&gt;Twitter for Android&lt;/a&gt;                                                                                    </td><td><span style=white-space:pre-wrap>NickBravoESQ  </span>                                                                                                                              </td><td> 0                                                                                                                                                                                  </td><td>FALSE                                                                                                                                                                               </td><td>FALSE                                                                                                                                                                               </td><td>NA                                                                                                                                                                                  </td><td>NA                                                                                                                                                                                  </td></tr>\n",
       "\t<tr><td><span style=white-space:pre-wrap>#WhiteHouse dismisses #NSC aide after harsh criticism of #Trump... https://t.co/En7FWuEhBY                                                  </span></td><td>FALSE                                                                                                                                                                               </td><td>0                                                                                                                                                                                   </td><td>NA                                                                                                                                                                                  </td><td>2017-02-18 22:57:47                                                                                                                                                                 </td><td>FALSE                                                                                                                                                                               </td><td>NA                                                                                                                                                                                  </td><td>833088147621818369                                                                                                                                                                  </td><td>NA                                                                                                                                                                                  </td><td><span style=white-space:pre-wrap>&lt;a href=\"http://www.facebook.com/twitter\" rel=\"nofollow\"&gt;Facebook&lt;/a&gt;               </span>                                            </td><td><span style=white-space:pre-wrap>AndrewJNell   </span>                                                                                                                              </td><td> 0                                                                                                                                                                                  </td><td>FALSE                                                                                                                                                                               </td><td>FALSE                                                                                                                                                                               </td><td>NA                                                                                                                                                                                  </td><td>NA                                                                                                                                                                                  </td></tr>\n",
       "\t<tr><td><span style=white-space:pre-wrap>RT @crazylary51: #Melbourne #WhiteHouse scum #TRUMP Obama golfs too much.\n",
       "Trump now: I'm going golfing. https://t.co/RVCHq8OPI7            </span></td><td>FALSE                                                                                                                                                                               </td><td>0                                                                                                                                                                                   </td><td>NA                                                                                                                                                                                  </td><td>2017-02-18 22:56:58                                                                                                                                                                 </td><td>FALSE                                                                                                                                                                               </td><td>NA                                                                                                                                                                                  </td><td>833087942071549954                                                                                                                                                                  </td><td>NA                                                                                                                                                                                  </td><td><span style=white-space:pre-wrap>&lt;a href=\"http://twitter.com/download/iphone\" rel=\"nofollow\"&gt;Twitter for iPhone&lt;/a&gt;  </span>                                            </td><td>tmmckinney777                                                                                                                                                                       </td><td> 4                                                                                                                                                                                  </td><td> TRUE                                                                                                                                                                               </td><td>FALSE                                                                                                                                                                               </td><td>NA                                                                                                                                                                                  </td><td>NA                                                                                                                                                                                  </td></tr>\n",
       "\t<tr><td><span style=white-space:pre-wrap>Why do #MSM think #DrainTheSwamp #WhiteHouse should function like all others? Same reason they have no clue why …  https://t.co/BBN0TUe5pa  </span></td><td>FALSE                                                                                                                                                                               </td><td>0                                                                                                                                                                                   </td><td>NA                                                                                                                                                                                  </td><td>2017-02-18 22:56:35                                                                                                                                                                 </td><td>FALSE                                                                                                                                                                               </td><td>NA                                                                                                                                                                                  </td><td>833087848052056065                                                                                                                                                                  </td><td>NA                                                                                                                                                                                  </td><td><span style=white-space:pre-wrap>&lt;a href=\"http://linkis.com\" rel=\"nofollow\"&gt;Put your button on any page! &lt;/a&gt;        </span>                                            </td><td><span style=white-space:pre-wrap>norweaver     </span>                                                                                                                              </td><td> 0                                                                                                                                                                                  </td><td>FALSE                                                                                                                                                                               </td><td>FALSE                                                                                                                                                                               </td><td>NA                                                                                                                                                                                  </td><td>NA                                                                                                                                                                                  </td></tr>\n",
       "\t<tr><td><span style=white-space:pre-wrap>RT @crazylary51: #Melbourne #WhiteHouse https://t.co/64DxcbZa34 #TheResistence                                                              </span></td><td>FALSE                                                                                                                                                                               </td><td>0                                                                                                                                                                                   </td><td>NA                                                                                                                                                                                  </td><td>2017-02-18 22:56:34                                                                                                                                                                 </td><td>FALSE                                                                                                                                                                               </td><td>NA                                                                                                                                                                                  </td><td>833087842347790338                                                                                                                                                                  </td><td>NA                                                                                                                                                                                  </td><td><span style=white-space:pre-wrap>&lt;a href=\"http://twitter.com/#!/download/ipad\" rel=\"nofollow\"&gt;Twitter for iPad&lt;/a&gt;   </span>                                            </td><td>granny_claudia                                                                                                                                                                      </td><td>27                                                                                                                                                                                  </td><td> TRUE                                                                                                                                                                               </td><td>FALSE                                                                                                                                                                               </td><td>NA                                                                                                                                                                                  </td><td>NA                                                                                                                                                                                  </td></tr>\n",
       "\t<tr><td><span style=white-space:pre-wrap>Someone tell this jackass that he won the election. Should be in the #WhiteHouse working. #Rally #Trump                                     </span></td><td>FALSE                                                                                                                                                                               </td><td>0                                                                                                                                                                                   </td><td>NA                                                                                                                                                                                  </td><td>2017-02-18 22:56:30                                                                                                                                                                 </td><td>FALSE                                                                                                                                                                               </td><td>NA                                                                                                                                                                                  </td><td>833087826216497152                                                                                                                                                                  </td><td>NA                                                                                                                                                                                  </td><td>&lt;a href=\"http://twitter.com/download/android\" rel=\"nofollow\"&gt;Twitter for Android&lt;/a&gt;                                                                                    </td><td><span style=white-space:pre-wrap>josieO        </span>                                                                                                                              </td><td> 0                                                                                                                                                                                  </td><td>FALSE                                                                                                                                                                               </td><td>FALSE                                                                                                                                                                               </td><td>NA                                                                                                                                                                                  </td><td>NA                                                                                                                                                                                  </td></tr>\n",
       "</tbody>\n",
       "</table>\n"
      ],
      "text/latex": [
       "\\begin{tabular}{r|llllllllllllllll}\n",
       " text & favorited & favoriteCount & replyToSN & created & truncated & replyToSID & id & replyToUID & statusSource & screenName & retweetCount & isRetweet & retweeted & longitude & latitude\\\\\n",
       "\\hline\n",
       "\t There is no Chapter 11 for the US Government.  Stop wasting our money @realDonaldTrump! There is only 1 \\#WhiteHouse… https://t.co/3LcPjYCXhb & FALSE                                                                                                                                          & 0                                                                                                                                              & NA                                                                                                                                             & 2017-02-18 22:57:49                                                                                                                            &  TRUE                                                                                                                                          & NA                                                                                                                                             & 833088156354301952                                                                                                                             & NA                                                                                                                                             & <a href=\"http://twitter.com/download/android\" rel=\"nofollow\">Twitter for Android</a>                                                           & NickBravoESQ                                                                                                                                   &  0                                                                                                                                             & FALSE                                                                                                                                          & FALSE                                                                                                                                          & NA                                                                                                                                             & NA                                                                                                                                            \\\\\n",
       "\t \\#WhiteHouse dismisses \\#NSC aide after harsh criticism of \\#Trump... https://t.co/En7FWuEhBY                                                   & FALSE                                                                                                                                              & 0                                                                                                                                                  & NA                                                                                                                                                 & 2017-02-18 22:57:47                                                                                                                                & FALSE                                                                                                                                              & NA                                                                                                                                                 & 833088147621818369                                                                                                                                 & NA                                                                                                                                                 & <a href=\"http://www.facebook.com/twitter\" rel=\"nofollow\">Facebook</a>                                                                              & AndrewJNell                                                                                                                                        &  0                                                                                                                                                 & FALSE                                                                                                                                              & FALSE                                                                                                                                              & NA                                                                                                                                                 & NA                                                                                                                                                \\\\\n",
       "\t RT @crazylary51: \\#Melbourne \\#WhiteHouse scum \\#TRUMP Obama golfs too much.\n",
       "Trump now: I'm going golfing. https://t.co/RVCHq8OPI7             & FALSE                                                                                                                                              & 0                                                                                                                                                  & NA                                                                                                                                                 & 2017-02-18 22:56:58                                                                                                                                & FALSE                                                                                                                                              & NA                                                                                                                                                 & 833087942071549954                                                                                                                                 & NA                                                                                                                                                 & <a href=\"http://twitter.com/download/iphone\" rel=\"nofollow\">Twitter for iPhone</a>                                                                 & tmmckinney777                                                                                                                                      &  4                                                                                                                                                 &  TRUE                                                                                                                                              & FALSE                                                                                                                                              & NA                                                                                                                                                 & NA                                                                                                                                                \\\\\n",
       "\t Why do \\#MSM think \\#DrainTheSwamp \\#WhiteHouse should function like all others? Same reason they have no clue why …  https://t.co/BBN0TUe5pa   & FALSE                                                                                                                                              & 0                                                                                                                                                  & NA                                                                                                                                                 & 2017-02-18 22:56:35                                                                                                                                & FALSE                                                                                                                                              & NA                                                                                                                                                 & 833087848052056065                                                                                                                                 & NA                                                                                                                                                 & <a href=\"http://linkis.com\" rel=\"nofollow\">Put your button on any page! </a>                                                                       & norweaver                                                                                                                                          &  0                                                                                                                                                 & FALSE                                                                                                                                              & FALSE                                                                                                                                              & NA                                                                                                                                                 & NA                                                                                                                                                \\\\\n",
       "\t RT @crazylary51: \\#Melbourne \\#WhiteHouse https://t.co/64DxcbZa34 \\#TheResistence                                                               & FALSE                                                                                                                                              & 0                                                                                                                                                  & NA                                                                                                                                                 & 2017-02-18 22:56:34                                                                                                                                & FALSE                                                                                                                                              & NA                                                                                                                                                 & 833087842347790338                                                                                                                                 & NA                                                                                                                                                 & <a href=\"http://twitter.com/\\#!/download/ipad\" rel=\"nofollow\">Twitter for iPad</a>                                                                & granny\\_claudia                                                                                                                                   & 27                                                                                                                                                 &  TRUE                                                                                                                                              & FALSE                                                                                                                                              & NA                                                                                                                                                 & NA                                                                                                                                                \\\\\n",
       "\t Someone tell this jackass that he won the election. Should be in the \\#WhiteHouse working. \\#Rally \\#Trump                                      & FALSE                                                                                                                                              & 0                                                                                                                                                  & NA                                                                                                                                                 & 2017-02-18 22:56:30                                                                                                                                & FALSE                                                                                                                                              & NA                                                                                                                                                 & 833087826216497152                                                                                                                                 & NA                                                                                                                                                 & <a href=\"http://twitter.com/download/android\" rel=\"nofollow\">Twitter for Android</a>                                                               & josieO                                                                                                                                             &  0                                                                                                                                                 & FALSE                                                                                                                                              & FALSE                                                                                                                                              & NA                                                                                                                                                 & NA                                                                                                                                                \\\\\n",
       "\\end{tabular}\n"
      ],
      "text/markdown": [
       "\n",
       "text | favorited | favoriteCount | replyToSN | created | truncated | replyToSID | id | replyToUID | statusSource | screenName | retweetCount | isRetweet | retweeted | longitude | latitude | \n",
       "|---|---|---|---|---|---|\n",
       "| There is no Chapter 11 for the US Government.  Stop wasting our money @realDonaldTrump! There is only 1 #WhiteHouse… https://t.co/3LcPjYCXhb | FALSE                                                                                                                                        | 0                                                                                                                                            | NA                                                                                                                                           | 2017-02-18 22:57:49                                                                                                                          |  TRUE                                                                                                                                        | NA                                                                                                                                           | 833088156354301952                                                                                                                           | NA                                                                                                                                           | <a href=\"http://twitter.com/download/android\" rel=\"nofollow\">Twitter for Android</a>                                                         | NickBravoESQ                                                                                                                                 |  0                                                                                                                                           | FALSE                                                                                                                                        | FALSE                                                                                                                                        | NA                                                                                                                                           | NA                                                                                                                                           | \n",
       "| #WhiteHouse dismisses #NSC aide after harsh criticism of #Trump... https://t.co/En7FWuEhBY                                                   | FALSE                                                                                                                                        | 0                                                                                                                                            | NA                                                                                                                                           | 2017-02-18 22:57:47                                                                                                                          | FALSE                                                                                                                                        | NA                                                                                                                                           | 833088147621818369                                                                                                                           | NA                                                                                                                                           | <a href=\"http://www.facebook.com/twitter\" rel=\"nofollow\">Facebook</a>                                                                        | AndrewJNell                                                                                                                                  |  0                                                                                                                                           | FALSE                                                                                                                                        | FALSE                                                                                                                                        | NA                                                                                                                                           | NA                                                                                                                                           | \n",
       "| RT @crazylary51: #Melbourne #WhiteHouse scum #TRUMP Obama golfs too much.\n",
       "Trump now: I'm going golfing. https://t.co/RVCHq8OPI7             | FALSE                                                                                                                                        | 0                                                                                                                                            | NA                                                                                                                                           | 2017-02-18 22:56:58                                                                                                                          | FALSE                                                                                                                                        | NA                                                                                                                                           | 833087942071549954                                                                                                                           | NA                                                                                                                                           | <a href=\"http://twitter.com/download/iphone\" rel=\"nofollow\">Twitter for iPhone</a>                                                           | tmmckinney777                                                                                                                                |  4                                                                                                                                           |  TRUE                                                                                                                                        | FALSE                                                                                                                                        | NA                                                                                                                                           | NA                                                                                                                                           | \n",
       "| Why do #MSM think #DrainTheSwamp #WhiteHouse should function like all others? Same reason they have no clue why …  https://t.co/BBN0TUe5pa   | FALSE                                                                                                                                        | 0                                                                                                                                            | NA                                                                                                                                           | 2017-02-18 22:56:35                                                                                                                          | FALSE                                                                                                                                        | NA                                                                                                                                           | 833087848052056065                                                                                                                           | NA                                                                                                                                           | <a href=\"http://linkis.com\" rel=\"nofollow\">Put your button on any page! </a>                                                                 | norweaver                                                                                                                                    |  0                                                                                                                                           | FALSE                                                                                                                                        | FALSE                                                                                                                                        | NA                                                                                                                                           | NA                                                                                                                                           | \n",
       "| RT @crazylary51: #Melbourne #WhiteHouse https://t.co/64DxcbZa34 #TheResistence                                                               | FALSE                                                                                                                                        | 0                                                                                                                                            | NA                                                                                                                                           | 2017-02-18 22:56:34                                                                                                                          | FALSE                                                                                                                                        | NA                                                                                                                                           | 833087842347790338                                                                                                                           | NA                                                                                                                                           | <a href=\"http://twitter.com/#!/download/ipad\" rel=\"nofollow\">Twitter for iPad</a>                                                            | granny_claudia                                                                                                                               | 27                                                                                                                                           |  TRUE                                                                                                                                        | FALSE                                                                                                                                        | NA                                                                                                                                           | NA                                                                                                                                           | \n",
       "| Someone tell this jackass that he won the election. Should be in the #WhiteHouse working. #Rally #Trump                                      | FALSE                                                                                                                                        | 0                                                                                                                                            | NA                                                                                                                                           | 2017-02-18 22:56:30                                                                                                                          | FALSE                                                                                                                                        | NA                                                                                                                                           | 833087826216497152                                                                                                                           | NA                                                                                                                                           | <a href=\"http://twitter.com/download/android\" rel=\"nofollow\">Twitter for Android</a>                                                         | josieO                                                                                                                                       |  0                                                                                                                                           | FALSE                                                                                                                                        | FALSE                                                                                                                                        | NA                                                                                                                                           | NA                                                                                                                                           | \n",
       "\n",
       "\n"
      ],
      "text/plain": [
       "  text                                                                                                                                        \n",
       "1 There is no Chapter 11 for the US Government.  Stop wasting our money @realDonaldTrump! There is only 1 #WhiteHouse",
       " https://t.co/3LcPjYCXhb\n",
       "2 #WhiteHouse dismisses #NSC aide after harsh criticism of #Trump... https://t.co/En7FWuEhBY                                                  \n",
       "3 RT @crazylary51: #Melbourne #WhiteHouse scum #TRUMP Obama golfs too much.\\nTrump now: I'm going golfing. https://t.co/RVCHq8OPI7            \n",
       "4 Why do #MSM think #DrainTheSwamp #WhiteHouse should function like all others? Same reason they have no clue why ",
       "  https://t.co/BBN0TUe5pa  \n",
       "5 RT @crazylary51: #Melbourne #WhiteHouse https://t.co/64DxcbZa34 #TheResistence                                                              \n",
       "6 Someone tell this jackass that he won the election. Should be in the #WhiteHouse working. #Rally #Trump                                     \n",
       "  favorited favoriteCount replyToSN created             truncated replyToSID\n",
       "1 FALSE     0             NA        2017-02-18 22:57:49  TRUE     NA        \n",
       "2 FALSE     0             NA        2017-02-18 22:57:47 FALSE     NA        \n",
       "3 FALSE     0             NA        2017-02-18 22:56:58 FALSE     NA        \n",
       "4 FALSE     0             NA        2017-02-18 22:56:35 FALSE     NA        \n",
       "5 FALSE     0             NA        2017-02-18 22:56:34 FALSE     NA        \n",
       "6 FALSE     0             NA        2017-02-18 22:56:30 FALSE     NA        \n",
       "  id                 replyToUID\n",
       "1 833088156354301952 NA        \n",
       "2 833088147621818369 NA        \n",
       "3 833087942071549954 NA        \n",
       "4 833087848052056065 NA        \n",
       "5 833087842347790338 NA        \n",
       "6 833087826216497152 NA        \n",
       "  statusSource                                                                        \n",
       "1 <a href=\"http://twitter.com/download/android\" rel=\"nofollow\">Twitter for Android</a>\n",
       "2 <a href=\"http://www.facebook.com/twitter\" rel=\"nofollow\">Facebook</a>               \n",
       "3 <a href=\"http://twitter.com/download/iphone\" rel=\"nofollow\">Twitter for iPhone</a>  \n",
       "4 <a href=\"http://linkis.com\" rel=\"nofollow\">Put your button on any page! </a>        \n",
       "5 <a href=\"http://twitter.com/#!/download/ipad\" rel=\"nofollow\">Twitter for iPad</a>   \n",
       "6 <a href=\"http://twitter.com/download/android\" rel=\"nofollow\">Twitter for Android</a>\n",
       "  screenName     retweetCount isRetweet retweeted longitude latitude\n",
       "1 NickBravoESQ    0           FALSE     FALSE     NA        NA      \n",
       "2 AndrewJNell     0           FALSE     FALSE     NA        NA      \n",
       "3 tmmckinney777   4            TRUE     FALSE     NA        NA      \n",
       "4 norweaver       0           FALSE     FALSE     NA        NA      \n",
       "5 granny_claudia 27            TRUE     FALSE     NA        NA      \n",
       "6 josieO          0           FALSE     FALSE     NA        NA      "
      ]
     },
     "metadata": {},
     "output_type": "display_data"
    }
   ],
   "source": [
    "head(df)"
   ]
  },
  {
   "cell_type": "code",
   "execution_count": 16,
   "metadata": {
    "collapsed": true
   },
   "outputs": [
    {
     "data": {
      "text/html": [
       "<ol class=list-inline>\n",
       "\t<li><span style=white-space:pre-wrap>'There is no Chapter 11 for the US Government.  Stop wasting our money @realDonaldTrump! There is only 1 #WhiteHouse… https://t.co/3LcPjYCXhb'</span></li>\n",
       "\t<li>'#WhiteHouse dismisses #NSC aide after harsh criticism of #Trump... https://t.co/En7FWuEhBY'</li>\n",
       "\t<li>'RT @crazylary51: #Melbourne #WhiteHouse scum #TRUMP Obama golfs too much.\n",
       "Trump now: I\\'m going golfing. https://t.co/RVCHq8OPI7'</li>\n",
       "\t<li><span style=white-space:pre-wrap>'Why do #MSM think #DrainTheSwamp #WhiteHouse should function like all others? Same reason they have no clue why …  https://t.co/BBN0TUe5pa'</span></li>\n",
       "\t<li>'RT @crazylary51: #Melbourne #WhiteHouse https://t.co/64DxcbZa34 #TheResistence'</li>\n",
       "\t<li>'Someone tell this jackass that he won the election. Should be in the #WhiteHouse working. #Rally #Trump'</li>\n",
       "\t<li>'@ZekeJMiller \n",
       "#Florida needs more than #prayer \n",
       "#Republican #climatedenier in #WhiteHouse\n",
       " ignores #sinkholes \n",
       "to b… https://t.co/q4ItVjms87'</li>\n",
       "\t<li>'#Trump will not let \"Fake Media\" control him\n",
       "#whitehouse \"is running so smoothly\"\n",
       "inherited mess\n",
       "bad people... get… https://t.co/kYYpO7X2AB'</li>\n",
       "\t<li><span style=white-space:pre-wrap>'RT @crazylary51: #Melbourne SCUM #WHITEHOUSE : Trump\\'s Approval Rating Dips Into The 30s As The White House Drowns In Scandal  https://t.co…'</span></li>\n",
       "\t<li>'RT @crazylary51: #Melbourne THE LOW LIFE #maga #WhiteHOUSE https://t.co/BmBLlKWqcc'</li>\n",
       "</ol>\n"
      ],
      "text/latex": [
       "\\begin{enumerate*}\n",
       "\\item 'There is no Chapter 11 for the US Government.  Stop wasting our money @realDonaldTrump! There is only 1 \\#WhiteHouse… https://t.co/3LcPjYCXhb'\n",
       "\\item '\\#WhiteHouse dismisses \\#NSC aide after harsh criticism of \\#Trump... https://t.co/En7FWuEhBY'\n",
       "\\item 'RT @crazylary51: \\#Melbourne \\#WhiteHouse scum \\#TRUMP Obama golfs too much.\n",
       "Trump now: I\\textbackslash{}'m going golfing. https://t.co/RVCHq8OPI7'\n",
       "\\item 'Why do \\#MSM think \\#DrainTheSwamp \\#WhiteHouse should function like all others? Same reason they have no clue why …  https://t.co/BBN0TUe5pa'\n",
       "\\item 'RT @crazylary51: \\#Melbourne \\#WhiteHouse https://t.co/64DxcbZa34 \\#TheResistence'\n",
       "\\item 'Someone tell this jackass that he won the election. Should be in the \\#WhiteHouse working. \\#Rally \\#Trump'\n",
       "\\item '@ZekeJMiller \n",
       "\\#Florida needs more than \\#prayer \n",
       "\\#Republican \\#climatedenier in \\#WhiteHouse\n",
       " ignores \\#sinkholes \n",
       "to b… https://t.co/q4ItVjms87'\n",
       "\\item '\\#Trump will not let \"Fake Media\" control him\n",
       "\\#whitehouse \"is running so smoothly\"\n",
       "inherited mess\n",
       "bad people... get… https://t.co/kYYpO7X2AB'\n",
       "\\item 'RT @crazylary51: \\#Melbourne SCUM \\#WHITEHOUSE : Trump\\textbackslash{}'s Approval Rating Dips Into The 30s As The White House Drowns In Scandal  https://t.co…'\n",
       "\\item 'RT @crazylary51: \\#Melbourne THE LOW LIFE \\#maga \\#WhiteHOUSE https://t.co/BmBLlKWqcc'\n",
       "\\end{enumerate*}\n"
      ],
      "text/markdown": [
       "1. <span style=white-space:pre-wrap>'There is no Chapter 11 for the US Government.  Stop wasting our money @realDonaldTrump! There is only 1 #WhiteHouse… https://t.co/3LcPjYCXhb'</span>\n",
       "2. '#WhiteHouse dismisses #NSC aide after harsh criticism of #Trump... https://t.co/En7FWuEhBY'\n",
       "3. 'RT @crazylary51: #Melbourne #WhiteHouse scum #TRUMP Obama golfs too much.\n",
       "Trump now: I\\'m going golfing. https://t.co/RVCHq8OPI7'\n",
       "4. <span style=white-space:pre-wrap>'Why do #MSM think #DrainTheSwamp #WhiteHouse should function like all others? Same reason they have no clue why …  https://t.co/BBN0TUe5pa'</span>\n",
       "5. 'RT @crazylary51: #Melbourne #WhiteHouse https://t.co/64DxcbZa34 #TheResistence'\n",
       "6. 'Someone tell this jackass that he won the election. Should be in the #WhiteHouse working. #Rally #Trump'\n",
       "7. '@ZekeJMiller \n",
       "#Florida needs more than #prayer \n",
       "#Republican #climatedenier in #WhiteHouse\n",
       " ignores #sinkholes \n",
       "to b… https://t.co/q4ItVjms87'\n",
       "8. '#Trump will not let \"Fake Media\" control him\n",
       "#whitehouse \"is running so smoothly\"\n",
       "inherited mess\n",
       "bad people... get… https://t.co/kYYpO7X2AB'\n",
       "9. <span style=white-space:pre-wrap>'RT @crazylary51: #Melbourne SCUM #WHITEHOUSE : Trump\\'s Approval Rating Dips Into The 30s As The White House Drowns In Scandal  https://t.co…'</span>\n",
       "10. 'RT @crazylary51: #Melbourne THE LOW LIFE #maga #WhiteHOUSE https://t.co/BmBLlKWqcc'\n",
       "\n",
       "\n"
      ],
      "text/plain": [
       " [1] \"There is no Chapter 11 for the US Government.  Stop wasting our money @realDonaldTrump! There is only 1 #WhiteHouse",
       " https://t.co/3LcPjYCXhb\"      \n",
       " [2] \"#WhiteHouse dismisses #NSC aide after harsh criticism of #Trump... https://t.co/En7FWuEhBY\"                                                        \n",
       " [3] \"RT @crazylary51: #Melbourne #WhiteHouse scum #TRUMP Obama golfs too much.\\nTrump now: I'm going golfing. https://t.co/RVCHq8OPI7\"                  \n",
       " [4] \"Why do #MSM think #DrainTheSwamp #WhiteHouse should function like all others? Same reason they have no clue why ",
       "  https://t.co/BBN0TUe5pa\"        \n",
       " [5] \"RT @crazylary51: #Melbourne #WhiteHouse https://t.co/64DxcbZa34 #TheResistence\"                                                                    \n",
       " [6] \"Someone tell this jackass that he won the election. Should be in the #WhiteHouse working. #Rally #Trump\"                                           \n",
       " [7] \"@ZekeJMiller \\n#Florida needs more than #prayer \\n#Republican #climatedenier in #WhiteHouse\\n ignores #sinkholes \\nto b",
       " https://t.co/q4ItVjms87\"  \n",
       " [8] \"#Trump will not let \\\"Fake Media\\\" control him\\n#whitehouse \\\"is running so smoothly\\\"\\ninherited mess\\nbad people... get",
       " https://t.co/kYYpO7X2AB\"\n",
       " [9] \"RT @crazylary51: #Melbourne SCUM #WHITEHOUSE : Trump's Approval Rating Dips Into The 30s As The White House Drowns In Scandal  https://t.co",
       "\"      \n",
       "[10] \"RT @crazylary51: #Melbourne THE LOW LIFE #maga #WhiteHOUSE https://t.co/BmBLlKWqcc\"                                                                "
      ]
     },
     "metadata": {},
     "output_type": "display_data"
    }
   ],
   "source": [
    "head(df$text,n=10)   #Display the tweet text for first 10 tweets in the data frame"
   ]
  },
  {
   "cell_type": "markdown",
   "metadata": {},
   "source": [
    "### Storing and loading tweets from a SQLite Database <a id='database'></a>"
   ]
  },
  {
   "cell_type": "code",
   "execution_count": 18,
   "metadata": {
    "collapsed": true
   },
   "outputs": [],
   "source": [
    "library(RSQLite)     #Load RSQLite Library"
   ]
  },
  {
   "cell_type": "code",
   "execution_count": 19,
   "metadata": {
    "collapsed": false
   },
   "outputs": [],
   "source": [
    "db <- dbConnect(SQLite(), dbname='TestDB.sqlite')       #Create the SQLite Database and register it\n",
    "register_sqlite_backend('TestDB.sqlite')"
   ]
  },
  {
   "cell_type": "code",
   "execution_count": 20,
   "metadata": {
    "collapsed": false
   },
   "outputs": [
    {
     "data": {
      "text/html": [
       "TRUE"
      ],
      "text/latex": [
       "TRUE"
      ],
      "text/markdown": [
       "TRUE"
      ],
      "text/plain": [
       "[1] TRUE"
      ]
     },
     "metadata": {},
     "output_type": "display_data"
    }
   ],
   "source": [
    "store_tweets_db(tweets)                               #Store 'tweets' to the database"
   ]
  },
  {
   "cell_type": "code",
   "execution_count": 21,
   "metadata": {
    "collapsed": true
   },
   "outputs": [
    {
     "data": {
      "text/plain": [
       "[[1]]\n",
       "[1] \"NickBravoESQ: There is no Chapter 11 for the US Government.  Stop wasting our money @realDonaldTrump! There is only 1 #WhiteHouse",
       " https://t.co/3LcPjYCXhb\"\n",
       "\n",
       "[[2]]\n",
       "[1] \"AndrewJNell: #WhiteHouse dismisses #NSC aide after harsh criticism of #Trump... https://t.co/En7FWuEhBY\"\n",
       "\n",
       "[[3]]\n",
       "[1] \"tmmckinney777: RT @crazylary51: #Melbourne #WhiteHouse scum #TRUMP Obama golfs too much.\\nTrump now: I'm going golfing. https://t.co/RVCHq8OPI7\"\n",
       "\n",
       "[[4]]\n",
       "[1] \"norweaver: Why do #MSM think #DrainTheSwamp #WhiteHouse should function like all others? Same reason they have no clue why ",
       "  https://t.co/BBN0TUe5pa\"\n",
       "\n",
       "[[5]]\n",
       "[1] \"granny_claudia: RT @crazylary51: #Melbourne #WhiteHouse https://t.co/64DxcbZa34 #TheResistence\"\n",
       "\n",
       "[[6]]\n",
       "[1] \"josieO: Someone tell this jackass that he won the election. Should be in the #WhiteHouse working. #Rally #Trump\"\n"
      ]
     },
     "metadata": {},
     "output_type": "display_data"
    }
   ],
   "source": [
    "tweetsFromDB = load_tweets_db()                       #Load tweets from the database to tweetsFromDB\n",
    "head(tweetsFromDB)"
   ]
  },
  {
   "cell_type": "markdown",
   "metadata": {},
   "source": [
    "### Retrieving Twitter timeline for a user <a id='timeline'></a>"
   ]
  },
  {
   "cell_type": "code",
   "execution_count": 22,
   "metadata": {
    "collapsed": true
   },
   "outputs": [],
   "source": [
    "userTime <- userTimeline('realDonaldTrump')    #Retrieve timeline for a user"
   ]
  },
  {
   "cell_type": "code",
   "execution_count": 32,
   "metadata": {
    "collapsed": true
   },
   "outputs": [
    {
     "data": {
      "text/plain": [
       "[[1]]\n",
       "[1] \"realDonaldTrump: Getting ready to leave for Melbourne, Florida. See you all soon!\"\n",
       "\n",
       "[[2]]\n",
       "[1] \"realDonaldTrump: Will be having many meetings this weekend at The Southern White House. Big 5:00 P.M. speech in Melbourne, Florida. A lot to talk about!\"\n",
       "\n",
       "[[3]]\n",
       "[1] \"realDonaldTrump: Don't believe the main stream (fake news) media.The White House is running VERY WELL. I inherited a MESS and am in the process of fixing it.\"\n"
      ]
     },
     "metadata": {},
     "output_type": "display_data"
    }
   ],
   "source": [
    "userTime[1:3]    # Display top 3 timeline results"
   ]
  },
  {
   "cell_type": "markdown",
   "metadata": {},
   "source": [
    "### Trending topics at a location   <a id='trends'></a>"
   ]
  },
  {
   "cell_type": "code",
   "execution_count": 34,
   "metadata": {
    "collapsed": true
   },
   "outputs": [
    {
     "data": {
      "text/html": [
       "<table>\n",
       "<thead><tr><th scope=col>name</th><th scope=col>country</th><th scope=col>woeid</th></tr></thead>\n",
       "<tbody>\n",
       "\t<tr><td>Worldwide     </td><td>              </td><td>1             </td></tr>\n",
       "\t<tr><td>Winnipeg      </td><td>Canada        </td><td>2972          </td></tr>\n",
       "\t<tr><td>Ottawa        </td><td>Canada        </td><td>3369          </td></tr>\n",
       "\t<tr><td>Quebec        </td><td>Canada        </td><td>3444          </td></tr>\n",
       "\t<tr><td>Montreal      </td><td>Canada        </td><td>3534          </td></tr>\n",
       "\t<tr><td>Toronto       </td><td>Canada        </td><td>4118          </td></tr>\n",
       "\t<tr><td>Edmonton      </td><td>Canada        </td><td>8676          </td></tr>\n",
       "\t<tr><td>Calgary       </td><td>Canada        </td><td>8775          </td></tr>\n",
       "\t<tr><td>Vancouver     </td><td>Canada        </td><td>9807          </td></tr>\n",
       "\t<tr><td>Birmingham    </td><td>United Kingdom</td><td>12723         </td></tr>\n",
       "\t<tr><td>Blackpool     </td><td>United Kingdom</td><td>12903         </td></tr>\n",
       "\t<tr><td>Bournemouth   </td><td>United Kingdom</td><td>13383         </td></tr>\n",
       "\t<tr><td>Brighton      </td><td>United Kingdom</td><td>13911         </td></tr>\n",
       "\t<tr><td>Bristol       </td><td>United Kingdom</td><td>13963         </td></tr>\n",
       "\t<tr><td>Cardiff       </td><td>United Kingdom</td><td>15127         </td></tr>\n",
       "\t<tr><td>Coventry      </td><td>United Kingdom</td><td>17044         </td></tr>\n",
       "\t<tr><td>Derby         </td><td>United Kingdom</td><td>18114         </td></tr>\n",
       "\t<tr><td>Edinburgh     </td><td>United Kingdom</td><td>19344         </td></tr>\n",
       "\t<tr><td>Glasgow       </td><td>United Kingdom</td><td>21125         </td></tr>\n",
       "\t<tr><td>Hull          </td><td>United Kingdom</td><td>25211         </td></tr>\n",
       "</tbody>\n",
       "</table>\n"
      ],
      "text/latex": [
       "\\begin{tabular}{r|lll}\n",
       " name & country & woeid\\\\\n",
       "\\hline\n",
       "\t Worldwide      &                & 1             \\\\\n",
       "\t Winnipeg       & Canada         & 2972          \\\\\n",
       "\t Ottawa         & Canada         & 3369          \\\\\n",
       "\t Quebec         & Canada         & 3444          \\\\\n",
       "\t Montreal       & Canada         & 3534          \\\\\n",
       "\t Toronto        & Canada         & 4118          \\\\\n",
       "\t Edmonton       & Canada         & 8676          \\\\\n",
       "\t Calgary        & Canada         & 8775          \\\\\n",
       "\t Vancouver      & Canada         & 9807          \\\\\n",
       "\t Birmingham     & United Kingdom & 12723         \\\\\n",
       "\t Blackpool      & United Kingdom & 12903         \\\\\n",
       "\t Bournemouth    & United Kingdom & 13383         \\\\\n",
       "\t Brighton       & United Kingdom & 13911         \\\\\n",
       "\t Bristol        & United Kingdom & 13963         \\\\\n",
       "\t Cardiff        & United Kingdom & 15127         \\\\\n",
       "\t Coventry       & United Kingdom & 17044         \\\\\n",
       "\t Derby          & United Kingdom & 18114         \\\\\n",
       "\t Edinburgh      & United Kingdom & 19344         \\\\\n",
       "\t Glasgow        & United Kingdom & 21125         \\\\\n",
       "\t Hull           & United Kingdom & 25211         \\\\\n",
       "\\end{tabular}\n"
      ],
      "text/markdown": [
       "\n",
       "name | country | woeid | \n",
       "|---|---|---|---|---|---|---|---|---|---|---|---|---|---|---|---|---|---|---|---|\n",
       "| Worldwide      |                | 1              | \n",
       "| Winnipeg       | Canada         | 2972           | \n",
       "| Ottawa         | Canada         | 3369           | \n",
       "| Quebec         | Canada         | 3444           | \n",
       "| Montreal       | Canada         | 3534           | \n",
       "| Toronto        | Canada         | 4118           | \n",
       "| Edmonton       | Canada         | 8676           | \n",
       "| Calgary        | Canada         | 8775           | \n",
       "| Vancouver      | Canada         | 9807           | \n",
       "| Birmingham     | United Kingdom | 12723          | \n",
       "| Blackpool      | United Kingdom | 12903          | \n",
       "| Bournemouth    | United Kingdom | 13383          | \n",
       "| Brighton       | United Kingdom | 13911          | \n",
       "| Bristol        | United Kingdom | 13963          | \n",
       "| Cardiff        | United Kingdom | 15127          | \n",
       "| Coventry       | United Kingdom | 17044          | \n",
       "| Derby          | United Kingdom | 18114          | \n",
       "| Edinburgh      | United Kingdom | 19344          | \n",
       "| Glasgow        | United Kingdom | 21125          | \n",
       "| Hull           | United Kingdom | 25211          | \n",
       "\n",
       "\n"
      ],
      "text/plain": [
       "   name        country        woeid\n",
       "1  Worldwide                  1    \n",
       "2  Winnipeg    Canada         2972 \n",
       "3  Ottawa      Canada         3369 \n",
       "4  Quebec      Canada         3444 \n",
       "5  Montreal    Canada         3534 \n",
       "6  Toronto     Canada         4118 \n",
       "7  Edmonton    Canada         8676 \n",
       "8  Calgary     Canada         8775 \n",
       "9  Vancouver   Canada         9807 \n",
       "10 Birmingham  United Kingdom 12723\n",
       "11 Blackpool   United Kingdom 12903\n",
       "12 Bournemouth United Kingdom 13383\n",
       "13 Brighton    United Kingdom 13911\n",
       "14 Bristol     United Kingdom 13963\n",
       "15 Cardiff     United Kingdom 15127\n",
       "16 Coventry    United Kingdom 17044\n",
       "17 Derby       United Kingdom 18114\n",
       "18 Edinburgh   United Kingdom 19344\n",
       "19 Glasgow     United Kingdom 21125\n",
       "20 Hull        United Kingdom 25211"
      ]
     },
     "metadata": {},
     "output_type": "display_data"
    }
   ],
   "source": [
    "avail_trends = availableTrendLocations()    #Get list of available trend locations\n",
    "head(avail_trends, n = 20)"
   ]
  },
  {
   "cell_type": "code",
   "execution_count": 37,
   "metadata": {
    "collapsed": true
   },
   "outputs": [],
   "source": [
    "close_trends = closestTrendLocations(42.886448,-78.878372)   #Retrieve closest trend locations \n",
    "                                                              #for a given set of co-ordinates, say Buffalo"
   ]
  },
  {
   "cell_type": "code",
   "execution_count": 38,
   "metadata": {
    "collapsed": false
   },
   "outputs": [
    {
     "data": {
      "text/html": [
       "<table>\n",
       "<thead><tr><th scope=col>name</th><th scope=col>country</th><th scope=col>woeid</th></tr></thead>\n",
       "<tbody>\n",
       "\t<tr><td>Toronto</td><td>Canada </td><td>4118   </td></tr>\n",
       "</tbody>\n",
       "</table>\n"
      ],
      "text/latex": [
       "\\begin{tabular}{r|lll}\n",
       " name & country & woeid\\\\\n",
       "\\hline\n",
       "\t Toronto & Canada  & 4118   \\\\\n",
       "\\end{tabular}\n"
      ],
      "text/markdown": [
       "\n",
       "name | country | woeid | \n",
       "|---|\n",
       "| Toronto | Canada  | 4118    | \n",
       "\n",
       "\n"
      ],
      "text/plain": [
       "  name    country woeid\n",
       "1 Toronto Canada  4118 "
      ]
     },
     "metadata": {},
     "output_type": "display_data"
    }
   ],
   "source": [
    "head(close_trends)                #We see that the nearest location with trends available is Toronto"
   ]
  },
  {
   "cell_type": "code",
   "execution_count": 39,
   "metadata": {
    "collapsed": true
   },
   "outputs": [],
   "source": [
    "trends = getTrends(close_trends$woeid)     #Pass WOEID received above to getTrends to get a trending topics"
   ]
  },
  {
   "cell_type": "code",
   "execution_count": 43,
   "metadata": {
    "collapsed": false
   },
   "outputs": [
    {
     "data": {
      "text/html": [
       "<ol class=list-inline>\n",
       "\t<li>'#TrumpRally'</li>\n",
       "\t<li>'#LegendsRow'</li>\n",
       "\t<li>'2018 Memorial Cup'</li>\n",
       "\t<li>'#hockeydayincanada'</li>\n",
       "\t<li>'Parkdale'</li>\n",
       "\t<li>'Patrik Laine'</li>\n",
       "\t<li>'Josh Donaldson'</li>\n",
       "\t<li>'#winterlude'</li>\n",
       "\t<li>'#endirectdelunivers'</li>\n",
       "\t<li>'Fedor'</li>\n",
       "</ol>\n"
      ],
      "text/latex": [
       "\\begin{enumerate*}\n",
       "\\item '\\#TrumpRally'\n",
       "\\item '\\#LegendsRow'\n",
       "\\item '2018 Memorial Cup'\n",
       "\\item '\\#hockeydayincanada'\n",
       "\\item 'Parkdale'\n",
       "\\item 'Patrik Laine'\n",
       "\\item 'Josh Donaldson'\n",
       "\\item '\\#winterlude'\n",
       "\\item '\\#endirectdelunivers'\n",
       "\\item 'Fedor'\n",
       "\\end{enumerate*}\n"
      ],
      "text/markdown": [
       "1. '#TrumpRally'\n",
       "2. '#LegendsRow'\n",
       "3. '2018 Memorial Cup'\n",
       "4. '#hockeydayincanada'\n",
       "5. 'Parkdale'\n",
       "6. 'Patrik Laine'\n",
       "7. 'Josh Donaldson'\n",
       "8. '#winterlude'\n",
       "9. '#endirectdelunivers'\n",
       "10. 'Fedor'\n",
       "\n",
       "\n"
      ],
      "text/plain": [
       " [1] \"#TrumpRally\"         \"#LegendsRow\"         \"2018 Memorial Cup\"  \n",
       " [4] \"#hockeydayincanada\"  \"Parkdale\"            \"Patrik Laine\"       \n",
       " [7] \"Josh Donaldson\"      \"#winterlude\"         \"#endirectdelunivers\"\n",
       "[10] \"Fedor\"              "
      ]
     },
     "metadata": {},
     "output_type": "display_data"
    }
   ],
   "source": [
    "trends$name[1:10]                         #Display the current top 10 trends in Toronto"
   ]
  },
  {
   "cell_type": "markdown",
   "metadata": {},
   "source": [
    "### Reading from a CSV file and plotting a graph and histogram <a id='plot'></a>"
   ]
  },
  {
   "cell_type": "code",
   "execution_count": 58,
   "metadata": {
    "collapsed": false
   },
   "outputs": [],
   "source": [
    "fb1<-read.csv(\"http://real-chart.finance.yahoo.com/table.csv?s=FB&d=10&e=5&f=2014&g=d&a=11&b=12&c=2013&ignore=.csv\")\n",
    "par(bg=\"limegreen\")    #Read Facebook Stock Data\n",
    "\n",
    "aapl1<-read.csv(\"http://real-chart.finance.yahoo.com/table.csv?s=AAPL&d=10&e=5&f=2014&g=d&a=11&b=12&c=2013&ignore=.csv\")\n",
    "par(bg=\"limegreen\")    #Read Apple Stock Data"
   ]
  },
  {
   "cell_type": "code",
   "execution_count": 59,
   "metadata": {
    "collapsed": false
   },
   "outputs": [
    {
     "data": {
      "image/png": "[encoded data removed]",
      "text/plain": [
       "plot without title"
      ]
     },
     "metadata": {},
     "output_type": "display_data"
    }
   ],
   "source": [
    "plot(aapl1$Adj.Close, col=\"blue\", type=\"o\", ylim=c(0,100), xlab=\"Days\", ylab=\"Price\" )       #Plot the stock data\n",
    "lines(fb1$Adj.Close, type=\"o\", pch=22, lty=2, col=\"red\")\n",
    "legend(\"topright\", inset=.05, c(\"Apple\",\"Facebook\"), fill=c(\"blue\",\"red\"), horiz=TRUE)"
   ]
  },
  {
   "cell_type": "code",
   "execution_count": 49,
   "metadata": {
    "collapsed": false
   },
   "outputs": [
    {
     "data": {
      "image/png": "[encoded data removed]",
      "text/plain": [
       "Plot with title \"Histogram of aapl1$Adj.Close\""
      ]
     },
     "metadata": {},
     "output_type": "display_data"
    }
   ],
   "source": [
    "hist(aapl1$Adj.Close, col=rainbow(8))"
   ]
  },
  {
   "cell_type": "markdown",
   "metadata": {},
   "source": [
    "### Using Google API to geocode and plot points on a map  <a id='map'></a>"
   ]
  },
  {
   "cell_type": "code",
   "execution_count": 51,
   "metadata": {
    "collapsed": true
   },
   "outputs": [],
   "source": [
    "library(\"ggmap\")\n",
    "library(\"maptools\")\n",
    "library(maps)"
   ]
  },
  {
   "cell_type": "code",
   "execution_count": 52,
   "metadata": {
    "collapsed": true
   },
   "outputs": [
    {
     "name": "stderr",
     "output_type": "stream",
     "text": [
      "Information from URL : http://maps.googleapis.com/maps/api/geocode/json?address=Buffalo&sensor=false\n",
      "Information from URL : http://maps.googleapis.com/maps/api/geocode/json?address=Bhopal&sensor=false\n",
      "Information from URL : http://maps.googleapis.com/maps/api/geocode/json?address=Mumbai&sensor=false\n",
      "Information from URL : http://maps.googleapis.com/maps/api/geocode/json?address=London&sensor=false\n",
      "Information from URL : http://maps.googleapis.com/maps/api/geocode/json?address=Melbourne&sensor=false\n",
      "Information from URL : http://maps.googleapis.com/maps/api/geocode/json?address=Johannesbury,%20SA&sensor=false\n"
     ]
    }
   ],
   "source": [
    "visited <- c(\"Buffalo\", \"Bhopal\",\"Mumbai\", \"London\", \"Melbourne\", \"Johannesbury, SA\")\n",
    "ll.visited <- geocode(visited)\n",
    "visit.x <- ll.visited$lon\n",
    "visit.y <- ll.visited$lat"
   ]
  },
  {
   "cell_type": "code",
   "execution_count": 57,
   "metadata": {
    "collapsed": true
   },
   "outputs": [
    {
     "data": {
      "image/png": "[encoded data removed]",
      "text/plain": [
       "plot without title"
      ]
     },
     "metadata": {},
     "output_type": "display_data"
    }
   ],
   "source": [
    "map(\"world\", fill=TRUE, col=\"white\", bg=\"lightblue\", ylim=c(-60, 90), mar=c(0,0,0,0))\n",
    "points(visit.x,visit.y, col=\"red\", pch=19)"
   ]
  },
  {
   "cell_type": "code",
   "execution_count": null,
   "metadata": {
    "collapsed": true
   },
   "outputs": [],
   "source": []
  }
 ],
 "metadata": {
  "kernelspec": {
   "display_name": "R",
   "language": "R",
   "name": "ir"
  },
  "language_info": {
   "codemirror_mode": "r",
   "file_extension": ".r",
   "mimetype": "text/x-r-source",
   "name": "R",
   "pygments_lexer": "r",
   "version": "3.3.2"
  }
 },
 "nbformat": 4,
 "nbformat_minor": 2
}
