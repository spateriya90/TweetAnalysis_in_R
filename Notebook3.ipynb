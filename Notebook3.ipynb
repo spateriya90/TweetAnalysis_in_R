{
 "cells": [
  {
   "cell_type": "markdown",
   "metadata": {},
   "source": [
    "# Notebook 3 "
   ]
  },
  {
   "cell_type": "markdown",
   "metadata": {},
   "source": [
    "## Get Current Top 10 Trends for a Location"
   ]
  },
  {
   "cell_type": "markdown",
   "metadata": {},
   "source": [
    "The functions used in this notebook have been referenced from the official 'twitteR' API Documentation https://cran.r-project.org/web/packages/twitteR/twitteR.pdf\n",
    "\n",
    "Load required libraries and authenticate with Twitter using API keys"
   ]
  },
  {
   "cell_type": "code",
   "execution_count": 1,
   "metadata": {
    "collapsed": false
   },
   "outputs": [
    {
     "name": "stderr",
     "output_type": "stream",
     "text": [
      "Loading required package: ggplot2\n"
     ]
    }
   ],
   "source": [
    "library(twitteR)\n",
    "library(ggmap)\n"
   ]
  },
  {
   "cell_type": "markdown",
   "metadata": {},
   "source": [
    "Initiate authentication with Twitter"
   ]
  },
  {
   "cell_type": "code",
   "execution_count": 2,
   "metadata": {
    "collapsed": true
   },
   "outputs": [
    {
     "name": "stdout",
     "output_type": "stream",
     "text": [
      "[1] \"Using direct authentication\"\n"
     ]
    }
   ],
   "source": [
    "setup_twitter_oauth(\"API key\", \"API secret\", \"Access token\", \"Access secret\")    #Authenticate using your application keys"
   ]
  },
  {
   "cell_type": "markdown",
   "metadata": {},
   "source": [
    "Put the name of the city/location you want the trends for in cityName. We will first get the co-ordinates for the location\n",
    "and then pass them to closestTrendLocations"
   ]
  },
  {
   "cell_type": "code",
   "execution_count": 8,
   "metadata": {
    "collapsed": false
   },
   "outputs": [
    {
     "name": "stderr",
     "output_type": "stream",
     "text": [
      "Information from URL : http://maps.googleapis.com/maps/api/geocode/json?address=Miami&sensor=false\n"
     ]
    }
   ],
   "source": [
    "cityName <- \"Miami\"\n",
    "coord = geocode(cityName)"
   ]
  },
  {
   "cell_type": "code",
   "execution_count": 9,
   "metadata": {
    "collapsed": false
   },
   "outputs": [],
   "source": [
    " nearTrends = closestTrendLocations(coord$lat, coord$lon)"
   ]
  },
  {
   "cell_type": "markdown",
   "metadata": {},
   "source": [
    "Pass the WOEID retrieved above to function getTrends() and get the trends for that location in trendsList"
   ]
  },
  {
   "cell_type": "code",
   "execution_count": 10,
   "metadata": {
    "collapsed": false
   },
   "outputs": [],
   "source": [
    "trendsList <- getTrends(nearTrends$woeid)"
   ]
  },
  {
   "cell_type": "markdown",
   "metadata": {},
   "source": [
    "Push the 1st ten rows in trendsList to top10, and print them"
   ]
  },
  {
   "cell_type": "code",
   "execution_count": 11,
   "metadata": {
    "collapsed": false
   },
   "outputs": [],
   "source": [
    "top10 <- trendsList$name[1:10]"
   ]
  },
  {
   "cell_type": "code",
   "execution_count": 12,
   "metadata": {
    "collapsed": false
   },
   "outputs": [
    {
     "name": "stdout",
     "output_type": "stream",
     "text": [
      "\n",
      "The trending topics  in Miami right now are:\n",
      "\n",
      "                       #hurtbae \n",
      "                       #Miami \n",
      "                       Venezuela \n",
      "                       #NationalDrinkWineDay \n",
      "                       Norma McCorvey \n",
      "                       Rocko \n",
      "                       #NotTheEnemy \n",
      "                       Clyde Stubblefield \n",
      "                       #ItsOnlyFunUntil \n",
      "                       Baylor"
     ]
    }
   ],
   "source": [
    "cat(sprintf(\"\\nThe trending topics  in %s right now are:\\n\",nearTrends$name))\n",
    "cat(sprintf(\"\\n                       %s\", top10))"
   ]
  }
 ],
 "metadata": {
  "kernelspec": {
   "display_name": "R",
   "language": "R",
   "name": "ir"
  },
  "language_info": {
   "codemirror_mode": "r",
   "file_extension": ".r",
   "mimetype": "text/x-r-source",
   "name": "R",
   "pygments_lexer": "r",
   "version": "3.3.2"
  }
 },
 "nbformat": 4,
 "nbformat_minor": 2
}
